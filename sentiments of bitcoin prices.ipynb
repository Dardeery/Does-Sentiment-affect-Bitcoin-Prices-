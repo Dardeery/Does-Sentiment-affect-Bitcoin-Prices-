{
 "cells": [
  {
   "cell_type": "markdown",
   "metadata": {
    "id": "8ealPbpXFdT6"
   },
   "source": [
    "# STOCK PREDICTION USING TWITTER SENTIMENT ANALYSIS"
   ]
  },
  {
   "cell_type": "markdown",
   "metadata": {
    "id": "T1hGAq6OFdT7"
   },
   "source": [
    "### importing libraries"
   ]
  },
  {
   "cell_type": "code",
   "execution_count": 1,
   "metadata": {
    "colab": {
     "base_uri": "https://localhost:8080/"
    },
    "id": "X3xgmADaFdT7",
    "outputId": "eed05079-93e7-4031-a787-d1186dce8266"
   },
   "outputs": [
    {
     "name": "stdout",
     "output_type": "stream",
     "text": [
      "Requirement already satisfied: yahoo_fin in c:\\programdata\\anaconda3\\lib\\site-packages (0.8.6)\n",
      "Requirement already satisfied: requests_html in c:\\programdata\\anaconda3\\lib\\site-packages (0.10.0)\n",
      "Requirement already satisfied: requests in c:\\programdata\\anaconda3\\lib\\site-packages (from requests_html) (2.22.0)\n",
      "Requirement already satisfied: parse in c:\\programdata\\anaconda3\\lib\\site-packages (from requests_html) (1.18.0)\n",
      "Requirement already satisfied: bs4 in c:\\programdata\\anaconda3\\lib\\site-packages (from requests_html) (0.0.1)\n",
      "Requirement already satisfied: pyppeteer>=0.0.14 in c:\\programdata\\anaconda3\\lib\\site-packages (from requests_html) (0.2.2)\n",
      "Requirement already satisfied: fake-useragent in c:\\programdata\\anaconda3\\lib\\site-packages (from requests_html) (0.1.11)\n",
      "Requirement already satisfied: pyquery in c:\\programdata\\anaconda3\\lib\\site-packages (from requests_html) (1.4.3)\n",
      "Requirement already satisfied: w3lib in c:\\programdata\\anaconda3\\lib\\site-packages (from requests_html) (1.22.0)\n",
      "Requirement already satisfied: urllib3!=1.25.0,!=1.25.1,<1.26,>=1.21.1 in c:\\programdata\\anaconda3\\lib\\site-packages (from requests->requests_html) (1.25.8)\n",
      "Requirement already satisfied: certifi>=2017.4.17 in c:\\programdata\\anaconda3\\lib\\site-packages (from requests->requests_html) (2019.11.28)\n",
      "Requirement already satisfied: idna<2.9,>=2.5 in c:\\programdata\\anaconda3\\lib\\site-packages (from requests->requests_html) (2.8)\n",
      "Requirement already satisfied: chardet<3.1.0,>=3.0.2 in c:\\programdata\\anaconda3\\lib\\site-packages (from requests->requests_html) (3.0.4)\n",
      "Requirement already satisfied: beautifulsoup4 in c:\\programdata\\anaconda3\\lib\\site-packages (from bs4->requests_html) (4.8.2)\n",
      "Requirement already satisfied: appdirs<2.0.0,>=1.4.3 in c:\\programdata\\anaconda3\\lib\\site-packages (from pyppeteer>=0.0.14->requests_html) (1.4.4)\n",
      "Requirement already satisfied: websockets<9.0,>=8.1 in c:\\programdata\\anaconda3\\lib\\site-packages (from pyppeteer>=0.0.14->requests_html) (8.1)\n",
      "Requirement already satisfied: pyee<8.0.0,>=7.0.1 in c:\\programdata\\anaconda3\\lib\\site-packages (from pyppeteer>=0.0.14->requests_html) (7.0.4)\n",
      "Requirement already satisfied: tqdm<5.0.0,>=4.42.1 in c:\\programdata\\anaconda3\\lib\\site-packages (from pyppeteer>=0.0.14->requests_html) (4.42.1)\n",
      "Requirement already satisfied: cssselect>0.7.9 in c:\\programdata\\anaconda3\\lib\\site-packages (from pyquery->requests_html) (1.1.0)\n",
      "Requirement already satisfied: lxml>=2.1 in c:\\programdata\\anaconda3\\lib\\site-packages (from pyquery->requests_html) (4.5.0)\n",
      "Requirement already satisfied: six>=1.4.1 in c:\\programdata\\anaconda3\\lib\\site-packages (from w3lib->requests_html) (1.14.0)\n",
      "Requirement already satisfied: soupsieve>=1.2 in c:\\programdata\\anaconda3\\lib\\site-packages (from beautifulsoup4->bs4->requests_html) (1.9.5)\n"
     ]
    }
   ],
   "source": [
    "!pip install yahoo_fin\n",
    "!pip install requests_html"
   ]
  },
  {
   "cell_type": "code",
   "execution_count": 2,
   "metadata": {
    "id": "SG2-gG_pFdT9"
   },
   "outputs": [],
   "source": [
    "import numpy as np\n",
    "import pandas as pd\n",
    "import matplotlib.pyplot as plt #for viz \n",
    "from yahoo_fin import stock_info as si #for financial data\n",
    "import yahoo_fin as yahoofinance #for financial data\n",
    "from sklearn.linear_model import LinearRegression #for analysis \n",
    "import tweepy #for twitter APIs\n",
    "from textblob import TextBlob  # to process text data\n",
    "from datetime import datetime # to convert timestamp to datetime"
   ]
  },
  {
   "cell_type": "code",
   "execution_count": 4,
   "metadata": {
    "id": "cG-S4IXUFdT9"
   },
   "outputs": [],
   "source": [
    "#1 connect to twitter +get avg sentiment per day "
   ]
  },
  {
   "cell_type": "markdown",
   "metadata": {
    "id": "Z4gQmYgQFdT9"
   },
   "source": [
    "#### setting up consumer key and access token"
   ]
  },
  {
   "cell_type": "code",
   "execution_count": 5,
   "metadata": {
    "id": "LRzsdisXFdT9"
   },
   "outputs": [],
   "source": [
    "consumer_key = ''\n",
    "consumer_secret = ''\n",
    "access_token = ''\n",
    "access_token_secret = ''\n",
    "\n",
    "\n",
    "auth = tweepy.OAuthHandler(consumer_key, consumer_secret)\n",
    "auth.set_access_token(access_token, access_token_secret)\n",
    "\n",
    "api = tweepy.API(auth, wait_on_rate_limit=True, wait_on_rate_limit_notify=True)"
   ]
  },
  {
   "cell_type": "markdown",
   "metadata": {
    "id": "OmXizPyIFdT9"
   },
   "source": [
    "##### Fetching tweets for Bitcoin in extended mode (cancelled due to data extraction limitation from twitter) "
   ]
  },
  {
   "cell_type": "code",
   "execution_count": 6,
   "metadata": {
    "id": "bf9iSPw6FdT9"
   },
   "outputs": [],
   "source": [
    "#fetch_tweets=tweepy.Cursor(api.search, q=\"#BTC\",count=100000000, lang =\"en\",since=\"2000-01-01\", tweet_mode=\"extended\").items()"
   ]
  },
  {
   "cell_type": "code",
   "execution_count": 7,
   "metadata": {
    "id": "fSjvaNI6n0oc"
   },
   "outputs": [],
   "source": [
    "#sleep_on_rate_limit=False"
   ]
  },
  {
   "cell_type": "code",
   "execution_count": 8,
   "metadata": {
    "colab": {
     "base_uri": "https://localhost:8080/"
    },
    "id": "ld1tZubPGiKE",
    "outputId": "9c489655-8b69-47ea-ff55-7e9b9225ef89"
   },
   "outputs": [],
   "source": [
    "#data=pd.DataFrame(data=[[tweet_info.created_at.date(),tweet_info.full_text]for tweet_info in fetch_tweets],columns=['time','Tweets'])"
   ]
  },
  {
   "cell_type": "markdown",
   "metadata": {
    "id": "MT_H3sJZFdT9"
   },
   "source": [
    "#### load previously twitter loaded data 16m tweets"
   ]
  },
  {
   "cell_type": "code",
   "execution_count": 10,
   "metadata": {},
   "outputs": [
    {
     "name": "stderr",
     "output_type": "stream",
     "text": [
      "C:\\ProgramData\\Anaconda3\\lib\\site-packages\\IPython\\core\\interactiveshell.py:3063: DtypeWarning: Columns (0,1,2,3,4,8) have mixed types.Specify dtype option on import or set low_memory=False.\n",
      "  interactivity=interactivity, compiler=compiler, result=result)\n"
     ]
    }
   ],
   "source": [
    "\n",
    "data= pd.read_csv(\"bitcoin tweets/tweets.csv\", sep=';',error_bad_lines=False)"
   ]
  },
  {
   "cell_type": "code",
   "execution_count": 11,
   "metadata": {},
   "outputs": [
    {
     "data": {
      "text/html": [
       "<div>\n",
       "<style scoped>\n",
       "    .dataframe tbody tr th:only-of-type {\n",
       "        vertical-align: middle;\n",
       "    }\n",
       "\n",
       "    .dataframe tbody tr th {\n",
       "        vertical-align: top;\n",
       "    }\n",
       "\n",
       "    .dataframe thead th {\n",
       "        text-align: right;\n",
       "    }\n",
       "</style>\n",
       "<table border=\"1\" class=\"dataframe\">\n",
       "  <thead>\n",
       "    <tr style=\"text-align: right;\">\n",
       "      <th></th>\n",
       "      <th>id</th>\n",
       "      <th>user</th>\n",
       "      <th>fullname</th>\n",
       "      <th>url</th>\n",
       "      <th>timestamp</th>\n",
       "      <th>replies</th>\n",
       "      <th>likes</th>\n",
       "      <th>retweets</th>\n",
       "      <th>text</th>\n",
       "    </tr>\n",
       "  </thead>\n",
       "  <tbody>\n",
       "    <tr>\n",
       "      <th>0</th>\n",
       "      <td>1132977055300300800</td>\n",
       "      <td>KamdemAbdiel</td>\n",
       "      <td>Abdiel kamdem</td>\n",
       "      <td>NaN</td>\n",
       "      <td>2019-05-27 11:49:14+00</td>\n",
       "      <td>0.0</td>\n",
       "      <td>0.0</td>\n",
       "      <td>0.0</td>\n",
       "      <td>È appena uscito un nuovo video! LES CRYPTOMONN...</td>\n",
       "    </tr>\n",
       "    <tr>\n",
       "      <th>1</th>\n",
       "      <td>1132977073402736640</td>\n",
       "      <td>bitcointe</td>\n",
       "      <td>Bitcointe</td>\n",
       "      <td>NaN</td>\n",
       "      <td>2019-05-27 11:49:18+00</td>\n",
       "      <td>0.0</td>\n",
       "      <td>0.0</td>\n",
       "      <td>0.0</td>\n",
       "      <td>Cardano: Digitize Currencies; EOS https://t.co...</td>\n",
       "    </tr>\n",
       "    <tr>\n",
       "      <th>2</th>\n",
       "      <td>1132977023893139456</td>\n",
       "      <td>3eyedbran</td>\n",
       "      <td>Bran - 3 Eyed Raven</td>\n",
       "      <td>NaN</td>\n",
       "      <td>2019-05-27 11:49:06+00</td>\n",
       "      <td>0.0</td>\n",
       "      <td>2.0</td>\n",
       "      <td>1.0</td>\n",
       "      <td>Another Test tweet that wasn't caught in the s...</td>\n",
       "    </tr>\n",
       "    <tr>\n",
       "      <th>3</th>\n",
       "      <td>1132977089089556481</td>\n",
       "      <td>DetroitCrypto</td>\n",
       "      <td>J. Scardina</td>\n",
       "      <td>NaN</td>\n",
       "      <td>2019-05-27 11:49:22+00</td>\n",
       "      <td>0.0</td>\n",
       "      <td>0.0</td>\n",
       "      <td>0.0</td>\n",
       "      <td>Current Crypto Prices! \\n\\nBTC: $8721.99 USD\\n...</td>\n",
       "    </tr>\n",
       "    <tr>\n",
       "      <th>4</th>\n",
       "      <td>1132977092340191232</td>\n",
       "      <td>mmursaleen72</td>\n",
       "      <td>Muhammad Mursaleen</td>\n",
       "      <td>NaN</td>\n",
       "      <td>2019-05-27 11:49:23+00</td>\n",
       "      <td>0.0</td>\n",
       "      <td>0.0</td>\n",
       "      <td>0.0</td>\n",
       "      <td>Spiv (Nosar Baz): BITCOIN Is An Asset &amp;amp; NO...</td>\n",
       "    </tr>\n",
       "    <tr>\n",
       "      <th>5</th>\n",
       "      <td>1132977100309319680</td>\n",
       "      <td>0nurTOKA</td>\n",
       "      <td>🐻🔫💥🐂🚀🙏</td>\n",
       "      <td>NaN</td>\n",
       "      <td>2019-05-27 11:49:25+00</td>\n",
       "      <td>0.0</td>\n",
       "      <td>0.0</td>\n",
       "      <td>0.0</td>\n",
       "      <td>#btc inceldiği yerden kopsun bakalım 17:00 ye ...</td>\n",
       "    </tr>\n",
       "    <tr>\n",
       "      <th>6</th>\n",
       "      <td>1132977101638897665</td>\n",
       "      <td>evilrobotted</td>\n",
       "      <td>evilrobotted</td>\n",
       "      <td>NaN</td>\n",
       "      <td>2019-05-27 11:49:25+00</td>\n",
       "      <td>0.0</td>\n",
       "      <td>0.0</td>\n",
       "      <td>0.0</td>\n",
       "      <td>@nwoodfine We have been building on the real #...</td>\n",
       "    </tr>\n",
       "    <tr>\n",
       "      <th>7</th>\n",
       "      <td>1132977108836323330</td>\n",
       "      <td>jabur_guilherme</td>\n",
       "      <td>Guilherme Jabur</td>\n",
       "      <td>NaN</td>\n",
       "      <td>2019-05-27 11:49:27+00</td>\n",
       "      <td>0.0</td>\n",
       "      <td>0.0</td>\n",
       "      <td>0.0</td>\n",
       "      <td>@pedronauck como investidor, vc é um ótimo dev...</td>\n",
       "    </tr>\n",
       "    <tr>\n",
       "      <th>8</th>\n",
       "      <td>1132977131850350593</td>\n",
       "      <td>INTBICON</td>\n",
       "      <td>億り人彼氏</td>\n",
       "      <td>NaN</td>\n",
       "      <td>2019-05-27 11:49:32+00</td>\n",
       "      <td>0.0</td>\n",
       "      <td>0.0</td>\n",
       "      <td>0.0</td>\n",
       "      <td>ブラジルはまぁ置いといてもドイツは存在感出してくるのかな。ロシアもマイニングなどで元気になる...</td>\n",
       "    </tr>\n",
       "    <tr>\n",
       "      <th>9</th>\n",
       "      <td>1132977132714561536</td>\n",
       "      <td>MLWright15</td>\n",
       "      <td>ML Wright</td>\n",
       "      <td>NaN</td>\n",
       "      <td>2019-05-27 11:49:32+00</td>\n",
       "      <td>0.0</td>\n",
       "      <td>0.0</td>\n",
       "      <td>0.0</td>\n",
       "      <td>CHANGE IS COMING...GET READY!!! Boom, Another ...</td>\n",
       "    </tr>\n",
       "  </tbody>\n",
       "</table>\n",
       "</div>"
      ],
      "text/plain": [
       "                    id             user             fullname  url  \\\n",
       "0  1132977055300300800     KamdemAbdiel        Abdiel kamdem  NaN   \n",
       "1  1132977073402736640        bitcointe            Bitcointe  NaN   \n",
       "2  1132977023893139456        3eyedbran  Bran - 3 Eyed Raven  NaN   \n",
       "3  1132977089089556481    DetroitCrypto          J. Scardina  NaN   \n",
       "4  1132977092340191232     mmursaleen72   Muhammad Mursaleen  NaN   \n",
       "5  1132977100309319680         0nurTOKA               🐻🔫💥🐂🚀🙏  NaN   \n",
       "6  1132977101638897665     evilrobotted         evilrobotted  NaN   \n",
       "7  1132977108836323330  jabur_guilherme      Guilherme Jabur  NaN   \n",
       "8  1132977131850350593         INTBICON                億り人彼氏  NaN   \n",
       "9  1132977132714561536       MLWright15            ML Wright  NaN   \n",
       "\n",
       "                timestamp  replies  likes  retweets  \\\n",
       "0  2019-05-27 11:49:14+00      0.0    0.0       0.0   \n",
       "1  2019-05-27 11:49:18+00      0.0    0.0       0.0   \n",
       "2  2019-05-27 11:49:06+00      0.0    2.0       1.0   \n",
       "3  2019-05-27 11:49:22+00      0.0    0.0       0.0   \n",
       "4  2019-05-27 11:49:23+00      0.0    0.0       0.0   \n",
       "5  2019-05-27 11:49:25+00      0.0    0.0       0.0   \n",
       "6  2019-05-27 11:49:25+00      0.0    0.0       0.0   \n",
       "7  2019-05-27 11:49:27+00      0.0    0.0       0.0   \n",
       "8  2019-05-27 11:49:32+00      0.0    0.0       0.0   \n",
       "9  2019-05-27 11:49:32+00      0.0    0.0       0.0   \n",
       "\n",
       "                                                text  \n",
       "0  È appena uscito un nuovo video! LES CRYPTOMONN...  \n",
       "1  Cardano: Digitize Currencies; EOS https://t.co...  \n",
       "2  Another Test tweet that wasn't caught in the s...  \n",
       "3  Current Crypto Prices! \\n\\nBTC: $8721.99 USD\\n...  \n",
       "4  Spiv (Nosar Baz): BITCOIN Is An Asset &amp; NO...  \n",
       "5  #btc inceldiği yerden kopsun bakalım 17:00 ye ...  \n",
       "6  @nwoodfine We have been building on the real #...  \n",
       "7  @pedronauck como investidor, vc é um ótimo dev...  \n",
       "8  ブラジルはまぁ置いといてもドイツは存在感出してくるのかな。ロシアもマイニングなどで元気になる...  \n",
       "9  CHANGE IS COMING...GET READY!!! Boom, Another ...  "
      ]
     },
     "execution_count": 11,
     "metadata": {},
     "output_type": "execute_result"
    }
   ],
   "source": [
    "data.head(10)"
   ]
  },
  {
   "cell_type": "markdown",
   "metadata": {
    "id": "T9RMfz5cFdT9"
   },
   "source": [
    "#### Removing special character from each tweets"
   ]
  },
  {
   "cell_type": "code",
   "execution_count": 98,
   "metadata": {},
   "outputs": [],
   "source": [
    "data_head='null'"
   ]
  },
  {
   "cell_type": "code",
   "execution_count": 99,
   "metadata": {},
   "outputs": [],
   "source": [
    "data_head=data.sample(200000)"
   ]
  },
  {
   "cell_type": "code",
   "execution_count": 100,
   "metadata": {
    "id": "5lmxhuRmFdT9"
   },
   "outputs": [],
   "source": [
    "data_head['Tweets']=data_head['text'].str.replace(\"(@[A-Za-z0-9]+)|([^0-9A-Za-z \\t])|(\\w+:\\/\\/\\S+)|(\\d+)\", \" \")"
   ]
  },
  {
   "cell_type": "code",
   "execution_count": 101,
   "metadata": {},
   "outputs": [],
   "source": [
    "#data_head['time'] = pd.to_datetime(data_head['timestamp'], format='%Y')"
   ]
  },
  {
   "cell_type": "code",
   "execution_count": 102,
   "metadata": {},
   "outputs": [],
   "source": [
    "data_head['time'] = data_head['timestamp']"
   ]
  },
  {
   "cell_type": "code",
   "execution_count": 103,
   "metadata": {
    "scrolled": true
   },
   "outputs": [
    {
     "data": {
      "text/plain": [
       "\" data_head['time']=''\\nfor i in data_head.index:\\n    #print(i)\\n    #print(datetime.strftime(datetime.strptime(data_head['timestamp'][i],'%Y-%m-%d %H:%M:%S+00'), '%Y-%m-%d'))\\n    #print(data_head['timestamp'][i])\\n    data_head['time'][i]=(datetime.strftime(datetime.strptime(data_head['timestamp'][i],'%Y-%m-%d %H:%M:%S+00'), '%Y-%m-%d'))\\n    \\n\""
      ]
     },
     "execution_count": 103,
     "metadata": {},
     "output_type": "execute_result"
    }
   ],
   "source": [
    "\"\"\" data_head['time']=''\n",
    "for i in data_head.index:\n",
    "    #print(i)\n",
    "    #print(datetime.strftime(datetime.strptime(data_head['timestamp'][i],'%Y-%m-%d %H:%M:%S+00'), '%Y-%m-%d'))\n",
    "    #print(data_head['timestamp'][i])\n",
    "    data_head['time'][i] = (datetime.strftime(datetime.strptime(data_head['timestamp'][i],'%Y-%m-%d %H:%M:%S+00'), '%Y-%m-%d'))\n",
    "    \n",
    "\"\"\""
   ]
  },
  {
   "cell_type": "code",
   "execution_count": 104,
   "metadata": {},
   "outputs": [],
   "source": [
    "data_head=data_head[['Tweets','time','replies','likes','retweets']]"
   ]
  },
  {
   "cell_type": "code",
   "execution_count": 105,
   "metadata": {},
   "outputs": [],
   "source": [
    "data_head=data_head.dropna()\n",
    "data_head.reset_index(drop=True, inplace=True)"
   ]
  },
  {
   "cell_type": "markdown",
   "metadata": {
    "id": "dTHuUNvtFdT-"
   },
   "source": [
    "#### Creating a dataframe where we will combine the tweets date wise and store into"
   ]
  },
  {
   "cell_type": "code",
   "execution_count": 106,
   "metadata": {
    "id": "WY7pMpGxFdT-",
    "scrolled": true
   },
   "outputs": [],
   "source": [
    "sentiment=[]\n",
    "for i in data_head.index:\n",
    "    #try:\n",
    "        sentiment.append(TextBlob(data_head.Tweets[i]).sentiment.polarity)\n",
    "   # except:\n",
    "   #     pass"
   ]
  },
  {
   "cell_type": "code",
   "execution_count": 107,
   "metadata": {
    "id": "ltkw1THQFdT-"
   },
   "outputs": [
    {
     "data": {
      "text/html": [
       "<div>\n",
       "<style scoped>\n",
       "    .dataframe tbody tr th:only-of-type {\n",
       "        vertical-align: middle;\n",
       "    }\n",
       "\n",
       "    .dataframe tbody tr th {\n",
       "        vertical-align: top;\n",
       "    }\n",
       "\n",
       "    .dataframe thead th {\n",
       "        text-align: right;\n",
       "    }\n",
       "</style>\n",
       "<table border=\"1\" class=\"dataframe\">\n",
       "  <thead>\n",
       "    <tr style=\"text-align: right;\">\n",
       "      <th></th>\n",
       "      <th>Tweets</th>\n",
       "      <th>time</th>\n",
       "      <th>replies</th>\n",
       "      <th>likes</th>\n",
       "      <th>retweets</th>\n",
       "      <th>sentiment</th>\n",
       "    </tr>\n",
       "  </thead>\n",
       "  <tbody>\n",
       "    <tr>\n",
       "      <th>0</th>\n",
       "      <td>The terms Google Bomb and Googlewashing refer ...</td>\n",
       "      <td>2018-04-07 21:29:57+00</td>\n",
       "      <td>0.0</td>\n",
       "      <td>0.0</td>\n",
       "      <td>0.0</td>\n",
       "      <td>0.0</td>\n",
       "    </tr>\n",
       "    <tr>\n",
       "      <th>1</th>\n",
       "      <td>SuperCashAppFriday                         ...</td>\n",
       "      <td>2019-07-27 02:39:19+00</td>\n",
       "      <td>0.0</td>\n",
       "      <td>0.0</td>\n",
       "      <td>0.0</td>\n",
       "      <td>0.0</td>\n",
       "    </tr>\n",
       "    <tr>\n",
       "      <th>2</th>\n",
       "      <td>Deutsche CEO Scolded Bankers Who Had Suits Fit ...</td>\n",
       "      <td>2019-07-11 21:57:51+00</td>\n",
       "      <td>0.0</td>\n",
       "      <td>3.0</td>\n",
       "      <td>1.0</td>\n",
       "      <td>0.0</td>\n",
       "    </tr>\n",
       "    <tr>\n",
       "      <th>3</th>\n",
       "      <td>a bitcoin</td>\n",
       "      <td>2018-08-03 16:44:10+00</td>\n",
       "      <td>0.0</td>\n",
       "      <td>0.0</td>\n",
       "      <td>0.0</td>\n",
       "      <td>0.0</td>\n",
       "    </tr>\n",
       "    <tr>\n",
       "      <th>4</th>\n",
       "      <td>When ebay makes  Bitcoin a payment option  wil...</td>\n",
       "      <td>2019-05-15 06:06:38+00</td>\n",
       "      <td>0.0</td>\n",
       "      <td>0.0</td>\n",
       "      <td>0.0</td>\n",
       "      <td>0.0</td>\n",
       "    </tr>\n",
       "    <tr>\n",
       "      <th>...</th>\n",
       "      <td>...</td>\n",
       "      <td>...</td>\n",
       "      <td>...</td>\n",
       "      <td>...</td>\n",
       "      <td>...</td>\n",
       "      <td>...</td>\n",
       "    </tr>\n",
       "    <tr>\n",
       "      <th>186524</th>\n",
       "      <td>Bitcoin Fiyatlar      Dolar Baraj n  A acak   ...</td>\n",
       "      <td>2017-10-10 07:46:18+00</td>\n",
       "      <td>0.0</td>\n",
       "      <td>0.0</td>\n",
       "      <td>0.0</td>\n",
       "      <td>0.0</td>\n",
       "    </tr>\n",
       "    <tr>\n",
       "      <th>186525</th>\n",
       "      <td>BTC       BRL em        s         bitcoin  b...</td>\n",
       "      <td>2018-11-30 10:00:02+00</td>\n",
       "      <td>0.0</td>\n",
       "      <td>0.0</td>\n",
       "      <td>0.0</td>\n",
       "      <td>0.0</td>\n",
       "    </tr>\n",
       "    <tr>\n",
       "      <th>186526</th>\n",
       "      <td>Former Mt  Gox CEO Is No Longer a Bitcoin Beli...</td>\n",
       "      <td>2018-04-06 04:45:42+00</td>\n",
       "      <td>0.0</td>\n",
       "      <td>0.0</td>\n",
       "      <td>0.0</td>\n",
       "      <td>0.0</td>\n",
       "    </tr>\n",
       "    <tr>\n",
       "      <th>186527</th>\n",
       "      <td>system maintenance</td>\n",
       "      <td>2019-09-17 08:26:11+00</td>\n",
       "      <td>0.0</td>\n",
       "      <td>0.0</td>\n",
       "      <td>0.0</td>\n",
       "      <td>0.0</td>\n",
       "    </tr>\n",
       "    <tr>\n",
       "      <th>186528</th>\n",
       "      <td>current</td>\n",
       "      <td>2018-08-03 09:44:14+00</td>\n",
       "      <td>0.0</td>\n",
       "      <td>0.0</td>\n",
       "      <td>0.0</td>\n",
       "      <td>0.0</td>\n",
       "    </tr>\n",
       "  </tbody>\n",
       "</table>\n",
       "<p>186529 rows × 6 columns</p>\n",
       "</div>"
      ],
      "text/plain": [
       "                                                   Tweets  \\\n",
       "0       The terms Google Bomb and Googlewashing refer ...   \n",
       "1          SuperCashAppFriday                         ...   \n",
       "2       Deutsche CEO Scolded Bankers Who Had Suits Fit...   \n",
       "3                                               a bitcoin   \n",
       "4       When ebay makes  Bitcoin a payment option  wil...   \n",
       "...                                                   ...   \n",
       "186524  Bitcoin Fiyatlar      Dolar Baraj n  A acak   ...   \n",
       "186525    BTC       BRL em        s         bitcoin  b...   \n",
       "186526  Former Mt  Gox CEO Is No Longer a Bitcoin Beli...   \n",
       "186527                                system maintenance    \n",
       "186528                                            current   \n",
       "\n",
       "                          time  replies  likes  retweets  sentiment  \n",
       "0       2018-04-07 21:29:57+00      0.0    0.0       0.0        0.0  \n",
       "1       2019-07-27 02:39:19+00      0.0    0.0       0.0        0.0  \n",
       "2       2019-07-11 21:57:51+00      0.0    3.0       1.0        0.0  \n",
       "3       2018-08-03 16:44:10+00      0.0    0.0       0.0        0.0  \n",
       "4       2019-05-15 06:06:38+00      0.0    0.0       0.0        0.0  \n",
       "...                        ...      ...    ...       ...        ...  \n",
       "186524  2017-10-10 07:46:18+00      0.0    0.0       0.0        0.0  \n",
       "186525  2018-11-30 10:00:02+00      0.0    0.0       0.0        0.0  \n",
       "186526  2018-04-06 04:45:42+00      0.0    0.0       0.0        0.0  \n",
       "186527  2019-09-17 08:26:11+00      0.0    0.0       0.0        0.0  \n",
       "186528  2018-08-03 09:44:14+00      0.0    0.0       0.0        0.0  \n",
       "\n",
       "[186529 rows x 6 columns]"
      ]
     },
     "execution_count": 107,
     "metadata": {},
     "output_type": "execute_result"
    }
   ],
   "source": [
    "data_head[\"sentiment\"]=sentiment\n",
    "data_head"
   ]
  },
  {
   "cell_type": "markdown",
   "metadata": {},
   "source": [
    "##### weighted sentiment (sum all like, replies and retweet and multiply per each sentiment) "
   ]
  },
  {
   "cell_type": "code",
   "execution_count": 180,
   "metadata": {},
   "outputs": [
    {
     "data": {
      "text/html": [
       "<div>\n",
       "<style scoped>\n",
       "    .dataframe tbody tr th:only-of-type {\n",
       "        vertical-align: middle;\n",
       "    }\n",
       "\n",
       "    .dataframe tbody tr th {\n",
       "        vertical-align: top;\n",
       "    }\n",
       "\n",
       "    .dataframe thead th {\n",
       "        text-align: right;\n",
       "    }\n",
       "</style>\n",
       "<table border=\"1\" class=\"dataframe\">\n",
       "  <thead>\n",
       "    <tr style=\"text-align: right;\">\n",
       "      <th></th>\n",
       "      <th>Tweets</th>\n",
       "      <th>time</th>\n",
       "      <th>replies</th>\n",
       "      <th>likes</th>\n",
       "      <th>retweets</th>\n",
       "      <th>sentiment</th>\n",
       "      <th>weighted sentiment</th>\n",
       "    </tr>\n",
       "  </thead>\n",
       "  <tbody>\n",
       "    <tr>\n",
       "      <th>0</th>\n",
       "      <td>The terms Google Bomb and Googlewashing refer ...</td>\n",
       "      <td>2018-04-07 21:29:57+00</td>\n",
       "      <td>0.0</td>\n",
       "      <td>0.0</td>\n",
       "      <td>0.0</td>\n",
       "      <td>0.0</td>\n",
       "      <td>0.0</td>\n",
       "    </tr>\n",
       "    <tr>\n",
       "      <th>1</th>\n",
       "      <td>SuperCashAppFriday                         ...</td>\n",
       "      <td>2019-07-27 02:39:19+00</td>\n",
       "      <td>0.0</td>\n",
       "      <td>0.0</td>\n",
       "      <td>0.0</td>\n",
       "      <td>0.0</td>\n",
       "      <td>0.0</td>\n",
       "    </tr>\n",
       "    <tr>\n",
       "      <th>2</th>\n",
       "      <td>Deutsche CEO Scolded Bankers Who Had Suits Fit...</td>\n",
       "      <td>2019-07-11 21:57:51+00</td>\n",
       "      <td>0.0</td>\n",
       "      <td>3.0</td>\n",
       "      <td>1.0</td>\n",
       "      <td>0.0</td>\n",
       "      <td>0.0</td>\n",
       "    </tr>\n",
       "    <tr>\n",
       "      <th>3</th>\n",
       "      <td>a bitcoin</td>\n",
       "      <td>2018-08-03 16:44:10+00</td>\n",
       "      <td>0.0</td>\n",
       "      <td>0.0</td>\n",
       "      <td>0.0</td>\n",
       "      <td>0.0</td>\n",
       "      <td>0.0</td>\n",
       "    </tr>\n",
       "    <tr>\n",
       "      <th>4</th>\n",
       "      <td>When ebay makes  Bitcoin a payment option  wil...</td>\n",
       "      <td>2019-05-15 06:06:38+00</td>\n",
       "      <td>0.0</td>\n",
       "      <td>0.0</td>\n",
       "      <td>0.0</td>\n",
       "      <td>0.0</td>\n",
       "      <td>0.0</td>\n",
       "    </tr>\n",
       "    <tr>\n",
       "      <th>...</th>\n",
       "      <td>...</td>\n",
       "      <td>...</td>\n",
       "      <td>...</td>\n",
       "      <td>...</td>\n",
       "      <td>...</td>\n",
       "      <td>...</td>\n",
       "      <td>...</td>\n",
       "    </tr>\n",
       "    <tr>\n",
       "      <th>186524</th>\n",
       "      <td>Bitcoin Fiyatlar      Dolar Baraj n  A acak   ...</td>\n",
       "      <td>2017-10-10 07:46:18+00</td>\n",
       "      <td>0.0</td>\n",
       "      <td>0.0</td>\n",
       "      <td>0.0</td>\n",
       "      <td>0.0</td>\n",
       "      <td>0.0</td>\n",
       "    </tr>\n",
       "    <tr>\n",
       "      <th>186525</th>\n",
       "      <td>BTC       BRL em        s         bitcoin  b...</td>\n",
       "      <td>2018-11-30 10:00:02+00</td>\n",
       "      <td>0.0</td>\n",
       "      <td>0.0</td>\n",
       "      <td>0.0</td>\n",
       "      <td>0.0</td>\n",
       "      <td>0.0</td>\n",
       "    </tr>\n",
       "    <tr>\n",
       "      <th>186526</th>\n",
       "      <td>Former Mt  Gox CEO Is No Longer a Bitcoin Beli...</td>\n",
       "      <td>2018-04-06 04:45:42+00</td>\n",
       "      <td>0.0</td>\n",
       "      <td>0.0</td>\n",
       "      <td>0.0</td>\n",
       "      <td>0.0</td>\n",
       "      <td>0.0</td>\n",
       "    </tr>\n",
       "    <tr>\n",
       "      <th>186527</th>\n",
       "      <td>system maintenance</td>\n",
       "      <td>2019-09-17 08:26:11+00</td>\n",
       "      <td>0.0</td>\n",
       "      <td>0.0</td>\n",
       "      <td>0.0</td>\n",
       "      <td>0.0</td>\n",
       "      <td>0.0</td>\n",
       "    </tr>\n",
       "    <tr>\n",
       "      <th>186528</th>\n",
       "      <td>current</td>\n",
       "      <td>2018-08-03 09:44:14+00</td>\n",
       "      <td>0.0</td>\n",
       "      <td>0.0</td>\n",
       "      <td>0.0</td>\n",
       "      <td>0.0</td>\n",
       "      <td>0.0</td>\n",
       "    </tr>\n",
       "  </tbody>\n",
       "</table>\n",
       "<p>186529 rows × 7 columns</p>\n",
       "</div>"
      ],
      "text/plain": [
       "                                                   Tweets  \\\n",
       "0       The terms Google Bomb and Googlewashing refer ...   \n",
       "1          SuperCashAppFriday                         ...   \n",
       "2       Deutsche CEO Scolded Bankers Who Had Suits Fit...   \n",
       "3                                               a bitcoin   \n",
       "4       When ebay makes  Bitcoin a payment option  wil...   \n",
       "...                                                   ...   \n",
       "186524  Bitcoin Fiyatlar      Dolar Baraj n  A acak   ...   \n",
       "186525    BTC       BRL em        s         bitcoin  b...   \n",
       "186526  Former Mt  Gox CEO Is No Longer a Bitcoin Beli...   \n",
       "186527                                system maintenance    \n",
       "186528                                            current   \n",
       "\n",
       "                          time  replies  likes  retweets  sentiment  \\\n",
       "0       2018-04-07 21:29:57+00      0.0    0.0       0.0        0.0   \n",
       "1       2019-07-27 02:39:19+00      0.0    0.0       0.0        0.0   \n",
       "2       2019-07-11 21:57:51+00      0.0    3.0       1.0        0.0   \n",
       "3       2018-08-03 16:44:10+00      0.0    0.0       0.0        0.0   \n",
       "4       2019-05-15 06:06:38+00      0.0    0.0       0.0        0.0   \n",
       "...                        ...      ...    ...       ...        ...   \n",
       "186524  2017-10-10 07:46:18+00      0.0    0.0       0.0        0.0   \n",
       "186525  2018-11-30 10:00:02+00      0.0    0.0       0.0        0.0   \n",
       "186526  2018-04-06 04:45:42+00      0.0    0.0       0.0        0.0   \n",
       "186527  2019-09-17 08:26:11+00      0.0    0.0       0.0        0.0   \n",
       "186528  2018-08-03 09:44:14+00      0.0    0.0       0.0        0.0   \n",
       "\n",
       "        weighted sentiment  \n",
       "0                      0.0  \n",
       "1                      0.0  \n",
       "2                      0.0  \n",
       "3                      0.0  \n",
       "4                      0.0  \n",
       "...                    ...  \n",
       "186524                 0.0  \n",
       "186525                 0.0  \n",
       "186526                 0.0  \n",
       "186527                 0.0  \n",
       "186528                 0.0  \n",
       "\n",
       "[186529 rows x 7 columns]"
      ]
     },
     "execution_count": 180,
     "metadata": {},
     "output_type": "execute_result"
    }
   ],
   "source": [
    "data_head['weighted sentiment']=(1+data_head.replies+data_head.likes+data_head.retweets)*sentiment\n",
    "\n",
    "data_head"
   ]
  },
  {
   "cell_type": "code",
   "execution_count": 109,
   "metadata": {},
   "outputs": [],
   "source": [
    "data_test=0"
   ]
  },
  {
   "cell_type": "code",
   "execution_count": 110,
   "metadata": {},
   "outputs": [],
   "source": [
    "data_test=data_head"
   ]
  },
  {
   "cell_type": "code",
   "execution_count": 111,
   "metadata": {},
   "outputs": [],
   "source": [
    "data_test = data_test[data_test['weighted sentiment']!=0]"
   ]
  },
  {
   "cell_type": "code",
   "execution_count": 112,
   "metadata": {},
   "outputs": [
    {
     "data": {
      "text/html": [
       "<div>\n",
       "<style scoped>\n",
       "    .dataframe tbody tr th:only-of-type {\n",
       "        vertical-align: middle;\n",
       "    }\n",
       "\n",
       "    .dataframe tbody tr th {\n",
       "        vertical-align: top;\n",
       "    }\n",
       "\n",
       "    .dataframe thead th {\n",
       "        text-align: right;\n",
       "    }\n",
       "</style>\n",
       "<table border=\"1\" class=\"dataframe\">\n",
       "  <thead>\n",
       "    <tr style=\"text-align: right;\">\n",
       "      <th></th>\n",
       "      <th>Tweets</th>\n",
       "      <th>time</th>\n",
       "      <th>replies</th>\n",
       "      <th>likes</th>\n",
       "      <th>retweets</th>\n",
       "      <th>sentiment</th>\n",
       "      <th>weighted sentiment</th>\n",
       "    </tr>\n",
       "  </thead>\n",
       "  <tbody>\n",
       "    <tr>\n",
       "      <th>6</th>\n",
       "      <td>If you think I m being  nasty because I do...</td>\n",
       "      <td>2019-07-31 19:34:33+00</td>\n",
       "      <td>0.0</td>\n",
       "      <td>0.0</td>\n",
       "      <td>0.0</td>\n",
       "      <td>-0.416667</td>\n",
       "      <td>-0.416667</td>\n",
       "    </tr>\n",
       "    <tr>\n",
       "      <th>8</th>\n",
       "      <td>The idea of this project is so innovative  I v...</td>\n",
       "      <td>2019-06-21 21:01:50+00</td>\n",
       "      <td>0.0</td>\n",
       "      <td>0.0</td>\n",
       "      <td>0.0</td>\n",
       "      <td>0.250000</td>\n",
       "      <td>0.250000</td>\n",
       "    </tr>\n",
       "    <tr>\n",
       "      <th>9</th>\n",
       "      <td>network sits the Ethereum Blockchain to prov...</td>\n",
       "      <td>2019-09-04 04:36:07+00</td>\n",
       "      <td>0.0</td>\n",
       "      <td>0.0</td>\n",
       "      <td>0.0</td>\n",
       "      <td>0.250000</td>\n",
       "      <td>0.250000</td>\n",
       "    </tr>\n",
       "    <tr>\n",
       "      <th>11</th>\n",
       "      <td>That s my   line     will be amazing to watch ...</td>\n",
       "      <td>2018-08-01 01:00:40+00</td>\n",
       "      <td>0.0</td>\n",
       "      <td>0.0</td>\n",
       "      <td>0.0</td>\n",
       "      <td>0.373611</td>\n",
       "      <td>0.373611</td>\n",
       "    </tr>\n",
       "    <tr>\n",
       "      <th>12</th>\n",
       "      <td>yeh news  wale fake news spread kar rahe h...</td>\n",
       "      <td>2019-08-21 15:26:54+00</td>\n",
       "      <td>0.0</td>\n",
       "      <td>0.0</td>\n",
       "      <td>0.0</td>\n",
       "      <td>-0.500000</td>\n",
       "      <td>-0.500000</td>\n",
       "    </tr>\n",
       "    <tr>\n",
       "      <th>...</th>\n",
       "      <td>...</td>\n",
       "      <td>...</td>\n",
       "      <td>...</td>\n",
       "      <td>...</td>\n",
       "      <td>...</td>\n",
       "      <td>...</td>\n",
       "      <td>...</td>\n",
       "    </tr>\n",
       "    <tr>\n",
       "      <th>186512</th>\n",
       "      <td>So when you say BTC do you mean Bitcoin or Bit...</td>\n",
       "      <td>2018-06-04 00:45:36+00</td>\n",
       "      <td>1.0</td>\n",
       "      <td>5.0</td>\n",
       "      <td>0.0</td>\n",
       "      <td>-0.312500</td>\n",
       "      <td>-2.187500</td>\n",
       "    </tr>\n",
       "    <tr>\n",
       "      <th>186516</th>\n",
       "      <td>Crazy to see    of pple say they haven t w...</td>\n",
       "      <td>2019-10-24 19:35:04+00</td>\n",
       "      <td>0.0</td>\n",
       "      <td>0.0</td>\n",
       "      <td>0.0</td>\n",
       "      <td>0.133333</td>\n",
       "      <td>0.133333</td>\n",
       "    </tr>\n",
       "    <tr>\n",
       "      <th>186518</th>\n",
       "      <td>OKEx Initiates  Clawback  after  Bitcoin Futu...</td>\n",
       "      <td>2018-08-03 10:28:53+00</td>\n",
       "      <td>0.0</td>\n",
       "      <td>0.0</td>\n",
       "      <td>0.0</td>\n",
       "      <td>-0.500000</td>\n",
       "      <td>-0.500000</td>\n",
       "    </tr>\n",
       "    <tr>\n",
       "      <th>186520</th>\n",
       "      <td>Algowave Reports    Crypto Market Predictions ...</td>\n",
       "      <td>2019-01-08 20:45:08+00</td>\n",
       "      <td>0.0</td>\n",
       "      <td>2.0</td>\n",
       "      <td>1.0</td>\n",
       "      <td>0.200000</td>\n",
       "      <td>0.800000</td>\n",
       "    </tr>\n",
       "    <tr>\n",
       "      <th>186521</th>\n",
       "      <td>Crypto Markets Search for Bottom on Broad Corr...</td>\n",
       "      <td>2019-07-23 13:54:11+00</td>\n",
       "      <td>0.0</td>\n",
       "      <td>0.0</td>\n",
       "      <td>0.0</td>\n",
       "      <td>0.062500</td>\n",
       "      <td>0.062500</td>\n",
       "    </tr>\n",
       "  </tbody>\n",
       "</table>\n",
       "<p>74073 rows × 7 columns</p>\n",
       "</div>"
      ],
      "text/plain": [
       "                                                   Tweets  \\\n",
       "6           If you think I m being  nasty because I do...   \n",
       "8       The idea of this project is so innovative  I v...   \n",
       "9         network sits the Ethereum Blockchain to prov...   \n",
       "11      That s my   line     will be amazing to watch ...   \n",
       "12          yeh news  wale fake news spread kar rahe h...   \n",
       "...                                                   ...   \n",
       "186512  So when you say BTC do you mean Bitcoin or Bit...   \n",
       "186516      Crazy to see    of pple say they haven t w...   \n",
       "186518   OKEx Initiates  Clawback  after  Bitcoin Futu...   \n",
       "186520  Algowave Reports    Crypto Market Predictions ...   \n",
       "186521  Crypto Markets Search for Bottom on Broad Corr...   \n",
       "\n",
       "                          time  replies  likes  retweets  sentiment  \\\n",
       "6       2019-07-31 19:34:33+00      0.0    0.0       0.0  -0.416667   \n",
       "8       2019-06-21 21:01:50+00      0.0    0.0       0.0   0.250000   \n",
       "9       2019-09-04 04:36:07+00      0.0    0.0       0.0   0.250000   \n",
       "11      2018-08-01 01:00:40+00      0.0    0.0       0.0   0.373611   \n",
       "12      2019-08-21 15:26:54+00      0.0    0.0       0.0  -0.500000   \n",
       "...                        ...      ...    ...       ...        ...   \n",
       "186512  2018-06-04 00:45:36+00      1.0    5.0       0.0  -0.312500   \n",
       "186516  2019-10-24 19:35:04+00      0.0    0.0       0.0   0.133333   \n",
       "186518  2018-08-03 10:28:53+00      0.0    0.0       0.0  -0.500000   \n",
       "186520  2019-01-08 20:45:08+00      0.0    2.0       1.0   0.200000   \n",
       "186521  2019-07-23 13:54:11+00      0.0    0.0       0.0   0.062500   \n",
       "\n",
       "        weighted sentiment  \n",
       "6                -0.416667  \n",
       "8                 0.250000  \n",
       "9                 0.250000  \n",
       "11                0.373611  \n",
       "12               -0.500000  \n",
       "...                    ...  \n",
       "186512           -2.187500  \n",
       "186516            0.133333  \n",
       "186518           -0.500000  \n",
       "186520            0.800000  \n",
       "186521            0.062500  \n",
       "\n",
       "[74073 rows x 7 columns]"
      ]
     },
     "execution_count": 112,
     "metadata": {},
     "output_type": "execute_result"
    }
   ],
   "source": [
    "data_test"
   ]
  },
  {
   "cell_type": "code",
   "execution_count": 113,
   "metadata": {},
   "outputs": [
    {
     "name": "stderr",
     "output_type": "stream",
     "text": [
      "C:\\ProgramData\\Anaconda3\\lib\\site-packages\\pandas\\core\\generic.py:5303: SettingWithCopyWarning: \n",
      "A value is trying to be set on a copy of a slice from a DataFrame.\n",
      "Try using .loc[row_indexer,col_indexer] = value instead\n",
      "\n",
      "See the caveats in the documentation: https://pandas.pydata.org/pandas-docs/stable/user_guide/indexing.html#returning-a-view-versus-a-copy\n",
      "  self[name] = value\n"
     ]
    },
    {
     "data": {
      "text/html": [
       "<div>\n",
       "<style scoped>\n",
       "    .dataframe tbody tr th:only-of-type {\n",
       "        vertical-align: middle;\n",
       "    }\n",
       "\n",
       "    .dataframe tbody tr th {\n",
       "        vertical-align: top;\n",
       "    }\n",
       "\n",
       "    .dataframe thead th {\n",
       "        text-align: right;\n",
       "    }\n",
       "</style>\n",
       "<table border=\"1\" class=\"dataframe\">\n",
       "  <thead>\n",
       "    <tr style=\"text-align: right;\">\n",
       "      <th></th>\n",
       "      <th>Tweets</th>\n",
       "      <th>time</th>\n",
       "      <th>replies</th>\n",
       "      <th>likes</th>\n",
       "      <th>retweets</th>\n",
       "      <th>sentiment</th>\n",
       "      <th>weighted sentiment</th>\n",
       "    </tr>\n",
       "  </thead>\n",
       "  <tbody>\n",
       "    <tr>\n",
       "      <th>6</th>\n",
       "      <td>If you think I m being  nasty because I do...</td>\n",
       "      <td>2019-07-31</td>\n",
       "      <td>0.0</td>\n",
       "      <td>0.0</td>\n",
       "      <td>0.0</td>\n",
       "      <td>-0.416667</td>\n",
       "      <td>-0.416667</td>\n",
       "    </tr>\n",
       "    <tr>\n",
       "      <th>8</th>\n",
       "      <td>The idea of this project is so innovative  I v...</td>\n",
       "      <td>2019-06-21</td>\n",
       "      <td>0.0</td>\n",
       "      <td>0.0</td>\n",
       "      <td>0.0</td>\n",
       "      <td>0.250000</td>\n",
       "      <td>0.250000</td>\n",
       "    </tr>\n",
       "    <tr>\n",
       "      <th>9</th>\n",
       "      <td>network sits the Ethereum Blockchain to prov...</td>\n",
       "      <td>2019-09-04</td>\n",
       "      <td>0.0</td>\n",
       "      <td>0.0</td>\n",
       "      <td>0.0</td>\n",
       "      <td>0.250000</td>\n",
       "      <td>0.250000</td>\n",
       "    </tr>\n",
       "    <tr>\n",
       "      <th>11</th>\n",
       "      <td>That s my   line     will be amazing to watch ...</td>\n",
       "      <td>2018-08-01</td>\n",
       "      <td>0.0</td>\n",
       "      <td>0.0</td>\n",
       "      <td>0.0</td>\n",
       "      <td>0.373611</td>\n",
       "      <td>0.373611</td>\n",
       "    </tr>\n",
       "    <tr>\n",
       "      <th>12</th>\n",
       "      <td>yeh news  wale fake news spread kar rahe h...</td>\n",
       "      <td>2019-08-21</td>\n",
       "      <td>0.0</td>\n",
       "      <td>0.0</td>\n",
       "      <td>0.0</td>\n",
       "      <td>-0.500000</td>\n",
       "      <td>-0.500000</td>\n",
       "    </tr>\n",
       "    <tr>\n",
       "      <th>...</th>\n",
       "      <td>...</td>\n",
       "      <td>...</td>\n",
       "      <td>...</td>\n",
       "      <td>...</td>\n",
       "      <td>...</td>\n",
       "      <td>...</td>\n",
       "      <td>...</td>\n",
       "    </tr>\n",
       "    <tr>\n",
       "      <th>186512</th>\n",
       "      <td>So when you say BTC do you mean Bitcoin or Bit...</td>\n",
       "      <td>2018-06-04</td>\n",
       "      <td>1.0</td>\n",
       "      <td>5.0</td>\n",
       "      <td>0.0</td>\n",
       "      <td>-0.312500</td>\n",
       "      <td>-2.187500</td>\n",
       "    </tr>\n",
       "    <tr>\n",
       "      <th>186516</th>\n",
       "      <td>Crazy to see    of pple say they haven t w...</td>\n",
       "      <td>2019-10-24</td>\n",
       "      <td>0.0</td>\n",
       "      <td>0.0</td>\n",
       "      <td>0.0</td>\n",
       "      <td>0.133333</td>\n",
       "      <td>0.133333</td>\n",
       "    </tr>\n",
       "    <tr>\n",
       "      <th>186518</th>\n",
       "      <td>OKEx Initiates  Clawback  after  Bitcoin Futu...</td>\n",
       "      <td>2018-08-03</td>\n",
       "      <td>0.0</td>\n",
       "      <td>0.0</td>\n",
       "      <td>0.0</td>\n",
       "      <td>-0.500000</td>\n",
       "      <td>-0.500000</td>\n",
       "    </tr>\n",
       "    <tr>\n",
       "      <th>186520</th>\n",
       "      <td>Algowave Reports    Crypto Market Predictions ...</td>\n",
       "      <td>2019-01-08</td>\n",
       "      <td>0.0</td>\n",
       "      <td>2.0</td>\n",
       "      <td>1.0</td>\n",
       "      <td>0.200000</td>\n",
       "      <td>0.800000</td>\n",
       "    </tr>\n",
       "    <tr>\n",
       "      <th>186521</th>\n",
       "      <td>Crypto Markets Search for Bottom on Broad Corr...</td>\n",
       "      <td>2019-07-23</td>\n",
       "      <td>0.0</td>\n",
       "      <td>0.0</td>\n",
       "      <td>0.0</td>\n",
       "      <td>0.062500</td>\n",
       "      <td>0.062500</td>\n",
       "    </tr>\n",
       "  </tbody>\n",
       "</table>\n",
       "<p>74073 rows × 7 columns</p>\n",
       "</div>"
      ],
      "text/plain": [
       "                                                   Tweets       time  replies  \\\n",
       "6           If you think I m being  nasty because I do... 2019-07-31      0.0   \n",
       "8       The idea of this project is so innovative  I v... 2019-06-21      0.0   \n",
       "9         network sits the Ethereum Blockchain to prov... 2019-09-04      0.0   \n",
       "11      That s my   line     will be amazing to watch ... 2018-08-01      0.0   \n",
       "12          yeh news  wale fake news spread kar rahe h... 2019-08-21      0.0   \n",
       "...                                                   ...        ...      ...   \n",
       "186512  So when you say BTC do you mean Bitcoin or Bit... 2018-06-04      1.0   \n",
       "186516      Crazy to see    of pple say they haven t w... 2019-10-24      0.0   \n",
       "186518   OKEx Initiates  Clawback  after  Bitcoin Futu... 2018-08-03      0.0   \n",
       "186520  Algowave Reports    Crypto Market Predictions ... 2019-01-08      0.0   \n",
       "186521  Crypto Markets Search for Bottom on Broad Corr... 2019-07-23      0.0   \n",
       "\n",
       "        likes  retweets  sentiment  weighted sentiment  \n",
       "6         0.0       0.0  -0.416667           -0.416667  \n",
       "8         0.0       0.0   0.250000            0.250000  \n",
       "9         0.0       0.0   0.250000            0.250000  \n",
       "11        0.0       0.0   0.373611            0.373611  \n",
       "12        0.0       0.0  -0.500000           -0.500000  \n",
       "...       ...       ...        ...                 ...  \n",
       "186512    5.0       0.0  -0.312500           -2.187500  \n",
       "186516    0.0       0.0   0.133333            0.133333  \n",
       "186518    0.0       0.0  -0.500000           -0.500000  \n",
       "186520    2.0       1.0   0.200000            0.800000  \n",
       "186521    0.0       0.0   0.062500            0.062500  \n",
       "\n",
       "[74073 rows x 7 columns]"
      ]
     },
     "execution_count": 113,
     "metadata": {},
     "output_type": "execute_result"
    }
   ],
   "source": [
    "#change data format of the tweet timestamp. \n",
    "data_test.time=data_test.time.str.slice(0, 10)\n",
    "data_test.time=pd.to_datetime(data_test.time, format='%Y-%m-%d')\n",
    "data_test"
   ]
  },
  {
   "cell_type": "code",
   "execution_count": 114,
   "metadata": {
    "id": "deVsl6KrFdT-"
   },
   "outputs": [],
   "source": [
    "#aggregating sentiment per day, thus taking the average sentiment per day\n",
    "data_test=data_test[[\"time\",\"weighted sentiment\",\"sentiment\"]].groupby([\"time\"]).mean()"
   ]
  },
  {
   "cell_type": "code",
   "execution_count": 115,
   "metadata": {},
   "outputs": [
    {
     "data": {
      "text/html": [
       "<div>\n",
       "<style scoped>\n",
       "    .dataframe tbody tr th:only-of-type {\n",
       "        vertical-align: middle;\n",
       "    }\n",
       "\n",
       "    .dataframe tbody tr th {\n",
       "        vertical-align: top;\n",
       "    }\n",
       "\n",
       "    .dataframe thead th {\n",
       "        text-align: right;\n",
       "    }\n",
       "</style>\n",
       "<table border=\"1\" class=\"dataframe\">\n",
       "  <thead>\n",
       "    <tr style=\"text-align: right;\">\n",
       "      <th></th>\n",
       "      <th>weighted sentiment</th>\n",
       "      <th>sentiment</th>\n",
       "    </tr>\n",
       "    <tr>\n",
       "      <th>time</th>\n",
       "      <th></th>\n",
       "      <th></th>\n",
       "    </tr>\n",
       "  </thead>\n",
       "  <tbody>\n",
       "    <tr>\n",
       "      <th>2012-02-05</th>\n",
       "      <td>0.500000</td>\n",
       "      <td>0.500000</td>\n",
       "    </tr>\n",
       "    <tr>\n",
       "      <th>2012-03-17</th>\n",
       "      <td>0.112500</td>\n",
       "      <td>0.056250</td>\n",
       "    </tr>\n",
       "    <tr>\n",
       "      <th>2012-04-05</th>\n",
       "      <td>0.136364</td>\n",
       "      <td>0.136364</td>\n",
       "    </tr>\n",
       "    <tr>\n",
       "      <th>2012-05-07</th>\n",
       "      <td>0.200000</td>\n",
       "      <td>0.200000</td>\n",
       "    </tr>\n",
       "    <tr>\n",
       "      <th>2012-07-30</th>\n",
       "      <td>0.266667</td>\n",
       "      <td>0.266667</td>\n",
       "    </tr>\n",
       "    <tr>\n",
       "      <th>...</th>\n",
       "      <td>...</td>\n",
       "      <td>...</td>\n",
       "    </tr>\n",
       "    <tr>\n",
       "      <th>2019-11-19</th>\n",
       "      <td>0.544285</td>\n",
       "      <td>0.207619</td>\n",
       "    </tr>\n",
       "    <tr>\n",
       "      <th>2019-11-20</th>\n",
       "      <td>3.126931</td>\n",
       "      <td>0.203856</td>\n",
       "    </tr>\n",
       "    <tr>\n",
       "      <th>2019-11-21</th>\n",
       "      <td>1.878451</td>\n",
       "      <td>0.197086</td>\n",
       "    </tr>\n",
       "    <tr>\n",
       "      <th>2019-11-22</th>\n",
       "      <td>1.021017</td>\n",
       "      <td>0.194306</td>\n",
       "    </tr>\n",
       "    <tr>\n",
       "      <th>2019-11-23</th>\n",
       "      <td>0.550934</td>\n",
       "      <td>0.227919</td>\n",
       "    </tr>\n",
       "  </tbody>\n",
       "</table>\n",
       "<p>1855 rows × 2 columns</p>\n",
       "</div>"
      ],
      "text/plain": [
       "            weighted sentiment  sentiment\n",
       "time                                     \n",
       "2012-02-05            0.500000   0.500000\n",
       "2012-03-17            0.112500   0.056250\n",
       "2012-04-05            0.136364   0.136364\n",
       "2012-05-07            0.200000   0.200000\n",
       "2012-07-30            0.266667   0.266667\n",
       "...                        ...        ...\n",
       "2019-11-19            0.544285   0.207619\n",
       "2019-11-20            3.126931   0.203856\n",
       "2019-11-21            1.878451   0.197086\n",
       "2019-11-22            1.021017   0.194306\n",
       "2019-11-23            0.550934   0.227919\n",
       "\n",
       "[1855 rows x 2 columns]"
      ]
     },
     "execution_count": 115,
     "metadata": {},
     "output_type": "execute_result"
    }
   ],
   "source": [
    "data_test"
   ]
  },
  {
   "cell_type": "code",
   "execution_count": 116,
   "metadata": {},
   "outputs": [
    {
     "data": {
      "text/plain": [
       "<matplotlib.axes._subplots.AxesSubplot at 0x2c1c8c33588>"
      ]
     },
     "execution_count": 116,
     "metadata": {},
     "output_type": "execute_result"
    },
    {
     "data": {
      "image/png": "[encoded data removed]",
      "text/plain": [
       "<Figure size 432x288 with 1 Axes>"
      ]
     },
     "metadata": {
      "needs_background": "light"
     },
     "output_type": "display_data"
    }
   ],
   "source": [
    "data_test[data_test['weighted sentiment']!=0].sentiment.plot()"
   ]
  },
  {
   "cell_type": "code",
   "execution_count": 117,
   "metadata": {},
   "outputs": [],
   "source": [
    "#saving the clean twitter data on csv as a backup !\n",
    "data_test.to_csv('twitter clean data.csv')\n"
   ]
  },
  {
   "cell_type": "code",
   "execution_count": 118,
   "metadata": {},
   "outputs": [],
   "source": [
    "#set indcies\n",
    "#data_test.set_index(\"time\")\n",
    "\n",
    "#change the index type to match between the two data sets\n",
    "data_test.index=data_test.index.astype('datetime64[ns]')"
   ]
  },
  {
   "cell_type": "markdown",
   "metadata": {
    "id": "9gncLTotFdT-"
   },
   "source": [
    "#### Now after having all tweets' sentiment (and weighted sentiment) ready for analysis, we start working on the stock prices"
   ]
  },
  {
   "cell_type": "markdown",
   "metadata": {
    "id": "ekP0ahuOFdT-"
   },
   "source": [
    "#### Connect to Stock prices, from Yahoo finance"
   ]
  },
  {
   "cell_type": "code",
   "execution_count": 139,
   "metadata": {},
   "outputs": [],
   "source": [
    "BTCUSD=0"
   ]
  },
  {
   "cell_type": "code",
   "execution_count": 140,
   "metadata": {
    "id": "g-9aZo9wFdT-"
   },
   "outputs": [],
   "source": [
    "# get live price of Bitcoin\n",
    "BTCUSD=si.get_live_price(\"BTC-USD\")"
   ]
  },
  {
   "cell_type": "code",
   "execution_count": 141,
   "metadata": {
    "id": "dApTl30GFdT-"
   },
   "outputs": [
    {
     "data": {
      "text/plain": [
       "Timestamp('2014-09-16 00:00:00')"
      ]
     },
     "execution_count": 141,
     "metadata": {},
     "output_type": "execute_result"
    }
   ],
   "source": [
    "BTCUSD=si.get_data(\"BTC-USD\",\"2000-01-01\", index_as_date=True)#[['adjclose','volume']]\n",
    "#stock['Date']=stock['date']\n",
    "BTCUSD.index.min()"
   ]
  },
  {
   "cell_type": "code",
   "execution_count": 142,
   "metadata": {
    "id": "DQ48I3Xmkpch"
   },
   "outputs": [
    {
     "data": {
      "text/html": [
       "<div>\n",
       "<style scoped>\n",
       "    .dataframe tbody tr th:only-of-type {\n",
       "        vertical-align: middle;\n",
       "    }\n",
       "\n",
       "    .dataframe tbody tr th {\n",
       "        vertical-align: top;\n",
       "    }\n",
       "\n",
       "    .dataframe thead th {\n",
       "        text-align: right;\n",
       "    }\n",
       "</style>\n",
       "<table border=\"1\" class=\"dataframe\">\n",
       "  <thead>\n",
       "    <tr style=\"text-align: right;\">\n",
       "      <th></th>\n",
       "      <th>open</th>\n",
       "      <th>high</th>\n",
       "      <th>low</th>\n",
       "      <th>close</th>\n",
       "      <th>adjclose</th>\n",
       "      <th>volume</th>\n",
       "      <th>ticker</th>\n",
       "      <th>close last day</th>\n",
       "    </tr>\n",
       "  </thead>\n",
       "  <tbody>\n",
       "    <tr>\n",
       "      <th>2014-09-16</th>\n",
       "      <td>465.864014</td>\n",
       "      <td>468.174011</td>\n",
       "      <td>452.421997</td>\n",
       "      <td>457.334015</td>\n",
       "      <td>457.334015</td>\n",
       "      <td>21056800</td>\n",
       "      <td>BTC-USD</td>\n",
       "      <td>NaN</td>\n",
       "    </tr>\n",
       "    <tr>\n",
       "      <th>2014-09-17</th>\n",
       "      <td>456.859985</td>\n",
       "      <td>456.859985</td>\n",
       "      <td>413.104004</td>\n",
       "      <td>424.440002</td>\n",
       "      <td>424.440002</td>\n",
       "      <td>34483200</td>\n",
       "      <td>BTC-USD</td>\n",
       "      <td>457.334015</td>\n",
       "    </tr>\n",
       "    <tr>\n",
       "      <th>2014-09-18</th>\n",
       "      <td>424.102997</td>\n",
       "      <td>427.834991</td>\n",
       "      <td>384.532013</td>\n",
       "      <td>394.795990</td>\n",
       "      <td>394.795990</td>\n",
       "      <td>37919700</td>\n",
       "      <td>BTC-USD</td>\n",
       "      <td>424.440002</td>\n",
       "    </tr>\n",
       "    <tr>\n",
       "      <th>2014-09-19</th>\n",
       "      <td>394.673004</td>\n",
       "      <td>423.295990</td>\n",
       "      <td>389.882996</td>\n",
       "      <td>408.903992</td>\n",
       "      <td>408.903992</td>\n",
       "      <td>36863600</td>\n",
       "      <td>BTC-USD</td>\n",
       "      <td>394.795990</td>\n",
       "    </tr>\n",
       "    <tr>\n",
       "      <th>2014-09-20</th>\n",
       "      <td>408.084991</td>\n",
       "      <td>412.425995</td>\n",
       "      <td>393.181000</td>\n",
       "      <td>398.821014</td>\n",
       "      <td>398.821014</td>\n",
       "      <td>26580100</td>\n",
       "      <td>BTC-USD</td>\n",
       "      <td>408.903992</td>\n",
       "    </tr>\n",
       "    <tr>\n",
       "      <th>...</th>\n",
       "      <td>...</td>\n",
       "      <td>...</td>\n",
       "      <td>...</td>\n",
       "      <td>...</td>\n",
       "      <td>...</td>\n",
       "      <td>...</td>\n",
       "      <td>...</td>\n",
       "      <td>...</td>\n",
       "    </tr>\n",
       "    <tr>\n",
       "      <th>2020-12-03</th>\n",
       "      <td>19205.925781</td>\n",
       "      <td>19566.191406</td>\n",
       "      <td>18925.785156</td>\n",
       "      <td>19445.398438</td>\n",
       "      <td>19445.398438</td>\n",
       "      <td>31930317405</td>\n",
       "      <td>BTC-USD</td>\n",
       "      <td>19201.091797</td>\n",
       "    </tr>\n",
       "    <tr>\n",
       "      <th>2020-12-04</th>\n",
       "      <td>19446.966797</td>\n",
       "      <td>19511.404297</td>\n",
       "      <td>18697.193359</td>\n",
       "      <td>18699.765625</td>\n",
       "      <td>18699.765625</td>\n",
       "      <td>33872388057</td>\n",
       "      <td>BTC-USD</td>\n",
       "      <td>19445.398438</td>\n",
       "    </tr>\n",
       "    <tr>\n",
       "      <th>2020-12-05</th>\n",
       "      <td>18698.384766</td>\n",
       "      <td>19160.449219</td>\n",
       "      <td>18590.193359</td>\n",
       "      <td>19154.230469</td>\n",
       "      <td>19154.230469</td>\n",
       "      <td>27242455063</td>\n",
       "      <td>BTC-USD</td>\n",
       "      <td>18699.765625</td>\n",
       "    </tr>\n",
       "    <tr>\n",
       "      <th>2020-12-06</th>\n",
       "      <td>19154.179688</td>\n",
       "      <td>19390.500000</td>\n",
       "      <td>18897.894531</td>\n",
       "      <td>19345.121094</td>\n",
       "      <td>19345.121094</td>\n",
       "      <td>25293775714</td>\n",
       "      <td>BTC-USD</td>\n",
       "      <td>19154.230469</td>\n",
       "    </tr>\n",
       "    <tr>\n",
       "      <th>2020-12-07</th>\n",
       "      <td>19250.500000</td>\n",
       "      <td>19410.511719</td>\n",
       "      <td>19186.441406</td>\n",
       "      <td>19242.224609</td>\n",
       "      <td>19242.224609</td>\n",
       "      <td>25769398272</td>\n",
       "      <td>BTC-USD</td>\n",
       "      <td>19345.121094</td>\n",
       "    </tr>\n",
       "  </tbody>\n",
       "</table>\n",
       "<p>2274 rows × 8 columns</p>\n",
       "</div>"
      ],
      "text/plain": [
       "                    open          high           low         close  \\\n",
       "2014-09-16    465.864014    468.174011    452.421997    457.334015   \n",
       "2014-09-17    456.859985    456.859985    413.104004    424.440002   \n",
       "2014-09-18    424.102997    427.834991    384.532013    394.795990   \n",
       "2014-09-19    394.673004    423.295990    389.882996    408.903992   \n",
       "2014-09-20    408.084991    412.425995    393.181000    398.821014   \n",
       "...                  ...           ...           ...           ...   \n",
       "2020-12-03  19205.925781  19566.191406  18925.785156  19445.398438   \n",
       "2020-12-04  19446.966797  19511.404297  18697.193359  18699.765625   \n",
       "2020-12-05  18698.384766  19160.449219  18590.193359  19154.230469   \n",
       "2020-12-06  19154.179688  19390.500000  18897.894531  19345.121094   \n",
       "2020-12-07  19250.500000  19410.511719  19186.441406  19242.224609   \n",
       "\n",
       "                adjclose       volume   ticker  close last day  \n",
       "2014-09-16    457.334015     21056800  BTC-USD             NaN  \n",
       "2014-09-17    424.440002     34483200  BTC-USD      457.334015  \n",
       "2014-09-18    394.795990     37919700  BTC-USD      424.440002  \n",
       "2014-09-19    408.903992     36863600  BTC-USD      394.795990  \n",
       "2014-09-20    398.821014     26580100  BTC-USD      408.903992  \n",
       "...                  ...          ...      ...             ...  \n",
       "2020-12-03  19445.398438  31930317405  BTC-USD    19201.091797  \n",
       "2020-12-04  18699.765625  33872388057  BTC-USD    19445.398438  \n",
       "2020-12-05  19154.230469  27242455063  BTC-USD    18699.765625  \n",
       "2020-12-06  19345.121094  25293775714  BTC-USD    19154.230469  \n",
       "2020-12-07  19242.224609  25769398272  BTC-USD    19345.121094  \n",
       "\n",
       "[2274 rows x 8 columns]"
      ]
     },
     "execution_count": 142,
     "metadata": {},
     "output_type": "execute_result"
    }
   ],
   "source": [
    "\"\"\"\"The adjusted closing price amends a stock's closing price to \n",
    "reflect that stock's value after accounting for any corporate actions (it was applied on the project\n",
    ", as if future versions will analyze the sentiment for multiple financial products ) \"\"\"\"\n",
    "\n",
    "BTCUSD['close last day']=BTCUSD['adjclose'].shift(1)\n",
    "BTCUSD\n"
   ]
  },
  {
   "cell_type": "code",
   "execution_count": 143,
   "metadata": {
    "id": "HtA_19u6P0wC"
   },
   "outputs": [],
   "source": [
    "#check index of the bitcoin\n",
    "#BTCUSD.set_index('time')\n",
    "BTCUSD=BTCUSD[['adjclose','volume','close last day']]"
   ]
  },
  {
   "cell_type": "code",
   "execution_count": 144,
   "metadata": {
    "id": "1f2zvRClFdT-"
   },
   "outputs": [],
   "source": [
    "full_data=data_test.join(BTCUSD,on='time',how='left',lsuffix='sentiment')\n",
    "\n",
    "full_data=full_data[['sentiment','weighted sentiment','adjclose','volume','close last day']]"
   ]
  },
  {
   "cell_type": "code",
   "execution_count": 298,
   "metadata": {},
   "outputs": [
    {
     "name": "stderr",
     "output_type": "stream",
     "text": [
      "C:\\ProgramData\\Anaconda3\\lib\\site-packages\\pandas\\core\\series.py:679: RuntimeWarning: invalid value encountered in log\n",
      "  result = getattr(ufunc, method)(*inputs, **kwargs)\n"
     ]
    }
   ],
   "source": [
    "#add the log of the sentiment\n",
    "full_data['log w.sentiment']=np.log(full_data['weighted sentiment'])"
   ]
  },
  {
   "cell_type": "code",
   "execution_count": 336,
   "metadata": {},
   "outputs": [],
   "source": [
    "full_data_new=0"
   ]
  },
  {
   "cell_type": "code",
   "execution_count": 337,
   "metadata": {
    "id": "68dCNCGgFdT-"
   },
   "outputs": [
    {
     "data": {
      "text/html": [
       "<div>\n",
       "<style scoped>\n",
       "    .dataframe tbody tr th:only-of-type {\n",
       "        vertical-align: middle;\n",
       "    }\n",
       "\n",
       "    .dataframe tbody tr th {\n",
       "        vertical-align: top;\n",
       "    }\n",
       "\n",
       "    .dataframe thead th {\n",
       "        text-align: right;\n",
       "    }\n",
       "</style>\n",
       "<table border=\"1\" class=\"dataframe\">\n",
       "  <thead>\n",
       "    <tr style=\"text-align: right;\">\n",
       "      <th></th>\n",
       "      <th>sentiment</th>\n",
       "      <th>weighted sentiment</th>\n",
       "      <th>adjclose</th>\n",
       "      <th>volume</th>\n",
       "      <th>close last day</th>\n",
       "      <th>log w.sentiment</th>\n",
       "    </tr>\n",
       "    <tr>\n",
       "      <th>time</th>\n",
       "      <th></th>\n",
       "      <th></th>\n",
       "      <th></th>\n",
       "      <th></th>\n",
       "      <th></th>\n",
       "      <th></th>\n",
       "    </tr>\n",
       "  </thead>\n",
       "  <tbody>\n",
       "    <tr>\n",
       "      <th>2014-09-18</th>\n",
       "      <td>0.039057</td>\n",
       "      <td>0.129966</td>\n",
       "      <td>394.795990</td>\n",
       "      <td>3.791970e+07</td>\n",
       "      <td>424.440002</td>\n",
       "      <td>-2.040480</td>\n",
       "    </tr>\n",
       "    <tr>\n",
       "      <th>2014-09-19</th>\n",
       "      <td>-0.009596</td>\n",
       "      <td>0.126768</td>\n",
       "      <td>408.903992</td>\n",
       "      <td>3.686360e+07</td>\n",
       "      <td>394.795990</td>\n",
       "      <td>-2.065399</td>\n",
       "    </tr>\n",
       "    <tr>\n",
       "      <th>2014-09-20</th>\n",
       "      <td>0.053333</td>\n",
       "      <td>0.053333</td>\n",
       "      <td>398.821014</td>\n",
       "      <td>2.658010e+07</td>\n",
       "      <td>408.903992</td>\n",
       "      <td>-2.931194</td>\n",
       "    </tr>\n",
       "    <tr>\n",
       "      <th>2014-09-22</th>\n",
       "      <td>0.081010</td>\n",
       "      <td>0.171919</td>\n",
       "      <td>435.790985</td>\n",
       "      <td>4.509950e+07</td>\n",
       "      <td>402.152008</td>\n",
       "      <td>-1.760731</td>\n",
       "    </tr>\n",
       "    <tr>\n",
       "      <th>2014-09-23</th>\n",
       "      <td>0.153333</td>\n",
       "      <td>0.153333</td>\n",
       "      <td>423.204987</td>\n",
       "      <td>3.062770e+07</td>\n",
       "      <td>435.790985</td>\n",
       "      <td>-1.875141</td>\n",
       "    </tr>\n",
       "    <tr>\n",
       "      <th>...</th>\n",
       "      <td>...</td>\n",
       "      <td>...</td>\n",
       "      <td>...</td>\n",
       "      <td>...</td>\n",
       "      <td>...</td>\n",
       "      <td>...</td>\n",
       "    </tr>\n",
       "    <tr>\n",
       "      <th>2019-11-19</th>\n",
       "      <td>0.207619</td>\n",
       "      <td>0.544285</td>\n",
       "      <td>8206.145508</td>\n",
       "      <td>2.108361e+10</td>\n",
       "      <td>8309.286133</td>\n",
       "      <td>-0.608282</td>\n",
       "    </tr>\n",
       "    <tr>\n",
       "      <th>2019-11-20</th>\n",
       "      <td>0.203856</td>\n",
       "      <td>3.126931</td>\n",
       "      <td>8027.268066</td>\n",
       "      <td>2.076430e+10</td>\n",
       "      <td>8206.145508</td>\n",
       "      <td>1.140052</td>\n",
       "    </tr>\n",
       "    <tr>\n",
       "      <th>2019-11-21</th>\n",
       "      <td>0.197086</td>\n",
       "      <td>1.878451</td>\n",
       "      <td>7642.750000</td>\n",
       "      <td>2.251424e+10</td>\n",
       "      <td>8027.268066</td>\n",
       "      <td>0.630447</td>\n",
       "    </tr>\n",
       "    <tr>\n",
       "      <th>2019-11-22</th>\n",
       "      <td>0.194306</td>\n",
       "      <td>1.021017</td>\n",
       "      <td>7296.577637</td>\n",
       "      <td>3.424232e+10</td>\n",
       "      <td>7642.750000</td>\n",
       "      <td>0.020799</td>\n",
       "    </tr>\n",
       "    <tr>\n",
       "      <th>2019-11-23</th>\n",
       "      <td>0.227919</td>\n",
       "      <td>0.550934</td>\n",
       "      <td>7397.796875</td>\n",
       "      <td>2.100892e+10</td>\n",
       "      <td>7296.577637</td>\n",
       "      <td>-0.596141</td>\n",
       "    </tr>\n",
       "  </tbody>\n",
       "</table>\n",
       "<p>1183 rows × 6 columns</p>\n",
       "</div>"
      ],
      "text/plain": [
       "            sentiment  weighted sentiment     adjclose        volume  \\\n",
       "time                                                                   \n",
       "2014-09-18   0.039057            0.129966   394.795990  3.791970e+07   \n",
       "2014-09-19  -0.009596            0.126768   408.903992  3.686360e+07   \n",
       "2014-09-20   0.053333            0.053333   398.821014  2.658010e+07   \n",
       "2014-09-22   0.081010            0.171919   435.790985  4.509950e+07   \n",
       "2014-09-23   0.153333            0.153333   423.204987  3.062770e+07   \n",
       "...               ...                 ...          ...           ...   \n",
       "2019-11-19   0.207619            0.544285  8206.145508  2.108361e+10   \n",
       "2019-11-20   0.203856            3.126931  8027.268066  2.076430e+10   \n",
       "2019-11-21   0.197086            1.878451  7642.750000  2.251424e+10   \n",
       "2019-11-22   0.194306            1.021017  7296.577637  3.424232e+10   \n",
       "2019-11-23   0.227919            0.550934  7397.796875  2.100892e+10   \n",
       "\n",
       "            close last day  log w.sentiment  \n",
       "time                                         \n",
       "2014-09-18      424.440002        -2.040480  \n",
       "2014-09-19      394.795990        -2.065399  \n",
       "2014-09-20      408.903992        -2.931194  \n",
       "2014-09-22      402.152008        -1.760731  \n",
       "2014-09-23      435.790985        -1.875141  \n",
       "...                    ...              ...  \n",
       "2019-11-19     8309.286133        -0.608282  \n",
       "2019-11-20     8206.145508         1.140052  \n",
       "2019-11-21     8027.268066         0.630447  \n",
       "2019-11-22     7642.750000         0.020799  \n",
       "2019-11-23     7296.577637        -0.596141  \n",
       "\n",
       "[1183 rows x 6 columns]"
      ]
     },
     "execution_count": 337,
     "metadata": {},
     "output_type": "execute_result"
    }
   ],
   "source": [
    "full_data_new=full_data.dropna()\n",
    "full_data_new"
   ]
  },
  {
   "cell_type": "code",
   "execution_count": 338,
   "metadata": {
    "id": "V_-OA1NeFdUC"
   },
   "outputs": [
    {
     "data": {
      "text/html": [
       "<div>\n",
       "<style scoped>\n",
       "    .dataframe tbody tr th:only-of-type {\n",
       "        vertical-align: middle;\n",
       "    }\n",
       "\n",
       "    .dataframe tbody tr th {\n",
       "        vertical-align: top;\n",
       "    }\n",
       "\n",
       "    .dataframe thead th {\n",
       "        text-align: right;\n",
       "    }\n",
       "</style>\n",
       "<table border=\"1\" class=\"dataframe\">\n",
       "  <thead>\n",
       "    <tr style=\"text-align: right;\">\n",
       "      <th></th>\n",
       "      <th>sentiment</th>\n",
       "      <th>weighted sentiment</th>\n",
       "      <th>adjclose</th>\n",
       "      <th>volume</th>\n",
       "      <th>close last day</th>\n",
       "      <th>log w.sentiment</th>\n",
       "    </tr>\n",
       "  </thead>\n",
       "  <tbody>\n",
       "    <tr>\n",
       "      <th>sentiment</th>\n",
       "      <td>1.000000</td>\n",
       "      <td>0.052227</td>\n",
       "      <td>0.224165</td>\n",
       "      <td>0.209512</td>\n",
       "      <td>0.223050</td>\n",
       "      <td>0.445095</td>\n",
       "    </tr>\n",
       "    <tr>\n",
       "      <th>weighted sentiment</th>\n",
       "      <td>0.052227</td>\n",
       "      <td>1.000000</td>\n",
       "      <td>0.082116</td>\n",
       "      <td>0.039530</td>\n",
       "      <td>0.089400</td>\n",
       "      <td>0.223156</td>\n",
       "    </tr>\n",
       "    <tr>\n",
       "      <th>adjclose</th>\n",
       "      <td>0.224165</td>\n",
       "      <td>0.082116</td>\n",
       "      <td>1.000000</td>\n",
       "      <td>0.747582</td>\n",
       "      <td>0.997080</td>\n",
       "      <td>0.276623</td>\n",
       "    </tr>\n",
       "    <tr>\n",
       "      <th>volume</th>\n",
       "      <td>0.209512</td>\n",
       "      <td>0.039530</td>\n",
       "      <td>0.747582</td>\n",
       "      <td>1.000000</td>\n",
       "      <td>0.746128</td>\n",
       "      <td>0.358948</td>\n",
       "    </tr>\n",
       "    <tr>\n",
       "      <th>close last day</th>\n",
       "      <td>0.223050</td>\n",
       "      <td>0.089400</td>\n",
       "      <td>0.997080</td>\n",
       "      <td>0.746128</td>\n",
       "      <td>1.000000</td>\n",
       "      <td>0.277385</td>\n",
       "    </tr>\n",
       "    <tr>\n",
       "      <th>log w.sentiment</th>\n",
       "      <td>0.445095</td>\n",
       "      <td>0.223156</td>\n",
       "      <td>0.276623</td>\n",
       "      <td>0.358948</td>\n",
       "      <td>0.277385</td>\n",
       "      <td>1.000000</td>\n",
       "    </tr>\n",
       "  </tbody>\n",
       "</table>\n",
       "</div>"
      ],
      "text/plain": [
       "                    sentiment  weighted sentiment  adjclose    volume  \\\n",
       "sentiment            1.000000            0.052227  0.224165  0.209512   \n",
       "weighted sentiment   0.052227            1.000000  0.082116  0.039530   \n",
       "adjclose             0.224165            0.082116  1.000000  0.747582   \n",
       "volume               0.209512            0.039530  0.747582  1.000000   \n",
       "close last day       0.223050            0.089400  0.997080  0.746128   \n",
       "log w.sentiment      0.445095            0.223156  0.276623  0.358948   \n",
       "\n",
       "                    close last day  log w.sentiment  \n",
       "sentiment                 0.223050         0.445095  \n",
       "weighted sentiment        0.089400         0.223156  \n",
       "adjclose                  0.997080         0.276623  \n",
       "volume                    0.746128         0.358948  \n",
       "close last day            1.000000         0.277385  \n",
       "log w.sentiment           0.277385         1.000000  "
      ]
     },
     "execution_count": 338,
     "metadata": {},
     "output_type": "execute_result"
    }
   ],
   "source": [
    "# see the correlation betwee the multiple factos \n",
    "full_data_new.corr()"
   ]
  },
  {
   "cell_type": "code",
   "execution_count": 339,
   "metadata": {
    "id": "PQhGccXH43n-"
   },
   "outputs": [],
   "source": [
    "#si.get_financials(\"AAPL\",quarterly=True)\n",
    "#financials=si.get_analysts_info(\"BTC-USD\")\n",
    "#si.get_stats_valuation(\"BTC-USD\")"
   ]
  },
  {
   "cell_type": "code",
   "execution_count": 374,
   "metadata": {},
   "outputs": [],
   "source": [
    "x_data=0\n",
    "y_data=0"
   ]
  },
  {
   "cell_type": "code",
   "execution_count": 375,
   "metadata": {
    "id": "R_G81nIMimnH"
   },
   "outputs": [],
   "source": [
    "x_data=full_data_new[['close last day','sentiment', 'volume','weighted sentiment','log w.sentiment']]\n",
    "y_data=full_data_new[['adjclose']]"
   ]
  },
  {
   "cell_type": "code",
   "execution_count": 376,
   "metadata": {
    "id": "soNTaXkPiyXq"
   },
   "outputs": [
    {
     "data": {
      "image/png": "[encoded data removed]",
      "text/plain": [
       "<Figure size 432x288 with 1 Axes>"
      ]
     },
     "metadata": {
      "needs_background": "light"
     },
     "output_type": "display_data"
    }
   ],
   "source": [
    "plt.scatter(x_data['close last day'],y_data,color='grey')\n",
    "plt.title('last day close price Vs today close price', fontsize=14)\n",
    "plt.ylabel('price t-1', fontsize=10)\n",
    "plt.ylabel('current price', fontsize=10)\n",
    "plt.grid(True)\n",
    "plt.show()"
   ]
  },
  {
   "cell_type": "code",
   "execution_count": 377,
   "metadata": {},
   "outputs": [
    {
     "data": {
      "image/png": "[encoded data removed]",
      "text/plain": [
       "<Figure size 432x288 with 1 Axes>"
      ]
     },
     "metadata": {
      "needs_background": "light"
     },
     "output_type": "display_data"
    }
   ],
   "source": [
    "plt.scatter(x_data['volume'],y_data,color='orange')\n",
    "plt.title('volume Vs price', fontsize=14)\n",
    "plt.xlabel('volume', fontsize=10)\n",
    "plt.ylabel('price', fontsize=10)\n",
    "plt.grid(True)\n",
    "plt.show()"
   ]
  },
  {
   "cell_type": "code",
   "execution_count": 378,
   "metadata": {},
   "outputs": [
    {
     "data": {
      "image/png": "[encoded data removed]",
      "text/plain": [
       "<Figure size 432x288 with 1 Axes>"
      ]
     },
     "metadata": {
      "needs_background": "light"
     },
     "output_type": "display_data"
    }
   ],
   "source": [
    "plt.scatter(x_data['sentiment'],y_data,color='black')\n",
    "plt.title('sentiment Vs price', fontsize=14)\n",
    "plt.xlabel('sentiment', fontsize=10)\n",
    "plt.ylabel('price', fontsize=10)\n",
    "plt.grid(True)\n",
    "plt.show()"
   ]
  },
  {
   "cell_type": "code",
   "execution_count": 379,
   "metadata": {},
   "outputs": [
    {
     "data": {
      "image/png": "[encoded data removed]",
      "text/plain": [
       "<Figure size 432x288 with 1 Axes>"
      ]
     },
     "metadata": {
      "needs_background": "light"
     },
     "output_type": "display_data"
    }
   ],
   "source": [
    "## taking log to the two variables \n",
    "plt.scatter((x_data['log w.sentiment']),(y_data),color='red')\n",
    "plt.title('weighted sentiment Vs price', fontsize=14)\n",
    "plt.xlabel('weighted sentiment', fontsize=10)\n",
    "plt.ylabel('price', fontsize=10)\n",
    "plt.grid(True)\n",
    "plt.show()"
   ]
  },
  {
   "cell_type": "code",
   "execution_count": 380,
   "metadata": {},
   "outputs": [],
   "source": [
    "import matplotlib.pyplot as plt\n",
    "import numpy as np\n",
    "from sklearn import datasets, linear_model\n",
    "from sklearn.metrics import mean_squared_error, r2_score"
   ]
  },
  {
   "cell_type": "code",
   "execution_count": 381,
   "metadata": {},
   "outputs": [],
   "source": [
    "x_data=x_data.dropna()\n",
    "y_data=y_data.dropna()\n",
    "n=(round(x_data.count()*.3))\n",
    "n=(round(y_data.count()*.3))\n",
    "n=int(n)"
   ]
  },
  {
   "cell_type": "code",
   "execution_count": 382,
   "metadata": {},
   "outputs": [
    {
     "name": "stdout",
     "output_type": "stream",
     "text": [
      "1183\n",
      "1183\n"
     ]
    }
   ],
   "source": [
    "print(len(y_data))\n",
    "print(len(x_data))\n"
   ]
  },
  {
   "cell_type": "code",
   "execution_count": 383,
   "metadata": {},
   "outputs": [],
   "source": [
    "# Split the data into training/testing sets\n",
    "x_data_train = x_data[:-n]\n",
    "x_data_test = x_data[-n:]\n",
    "\n",
    "# Split the targets into training/testing sets\n",
    "y_data_train = y_data[:-n]\n",
    "y_data_test = y_data[-n:]\n"
   ]
  },
  {
   "cell_type": "markdown",
   "metadata": {},
   "source": [
    "###  ${Y} = {\\alpha}_{0} +{\\alpha}_{1} Y_{-1}+{\\alpha}_{1} X_{1}+{\\alpha}_{2} X_{2}+{\\alpha}_{3} X_{3} +{\\alpha}_{4} X_{4}+{\\epsilon}$"
   ]
  },
  {
   "cell_type": "markdown",
   "metadata": {},
   "source": [
    "$Y_{-1}= close last day$\n",
    "<br>\n",
    "$X_{1} = sentiment$\n",
    "<br>\n",
    "$X_{2} = volume$\n",
    "<br>\n",
    "$X_{3}=weighted_sentiment$\n",
    "<br>\n",
    "$X_{4}=log(weighted sentiment)$"
   ]
  },
  {
   "cell_type": "code",
   "execution_count": 384,
   "metadata": {},
   "outputs": [],
   "source": [
    "# Create linear regression object\n",
    "regr = linear_model.LinearRegression()"
   ]
  },
  {
   "cell_type": "code",
   "execution_count": 385,
   "metadata": {},
   "outputs": [
    {
     "data": {
      "text/plain": [
       "LinearRegression(copy_X=True, fit_intercept=True, n_jobs=None, normalize=False)"
      ]
     },
     "execution_count": 385,
     "metadata": {},
     "output_type": "execute_result"
    }
   ],
   "source": [
    "# Train the model using the training sets\n",
    "regr.fit(x_data_train, y_data_train)\n"
   ]
  },
  {
   "cell_type": "code",
   "execution_count": 386,
   "metadata": {},
   "outputs": [],
   "source": [
    "# Make predictions using the testing set\n",
    "y_data_pred = regr.predict(x_data_test)"
   ]
  },
  {
   "cell_type": "code",
   "execution_count": 387,
   "metadata": {},
   "outputs": [
    {
     "name": "stdout",
     "output_type": "stream",
     "text": [
      "Coefficients: \n",
      " [[ 1.00321539e+00  2.92895067e+01 -9.43182105e-09 -8.97621942e-02\n",
      "   3.88327143e+00]]\n"
     ]
    }
   ],
   "source": [
    "# The coefficients\n",
    "print('Coefficients: \\n', regr.coef_)"
   ]
  },
  {
   "cell_type": "code",
   "execution_count": 388,
   "metadata": {},
   "outputs": [
    {
     "name": "stdout",
     "output_type": "stream",
     "text": [
      "intercept: \n",
      " [16.93332858]\n"
     ]
    }
   ],
   "source": [
    "# The intercept\n",
    "print('intercept: \\n', regr.intercept_)"
   ]
  },
  {
   "cell_type": "markdown",
   "metadata": {},
   "source": [
    "### ${Y} =16.9 +1.0 Y_{-1}+0.296 X_{1}-0.94 X_{2}-0.89 X_{3} +0.38 X_{4} +{\\epsilon} $\n",
    "<br>\n",
    "$Y_{-1}= close last day$\n",
    "<br>\n",
    "$X_{1} = sentiment$\n",
    "<br>\n",
    "$X_{2} = volume$\n",
    "<br>\n",
    "$X_{3}=weighted sentiment$\n",
    "<br>\n",
    "$X_{4}=log(weighted sentiment)$"
   ]
  },
  {
   "cell_type": "code",
   "execution_count": 389,
   "metadata": {},
   "outputs": [
    {
     "name": "stdout",
     "output_type": "stream",
     "text": [
      "Mean squared error: 119649.81\n",
      "Coefficient of determination: 0.98\n"
     ]
    }
   ],
   "source": [
    "# The mean squared error\n",
    "print('Mean squared error: %.2f'\n",
    "      % mean_squared_error(y_data_test, y_data_pred))\n",
    "# The coefficient of determination: 1 is perfect prediction\n",
    "print('Coefficient of determination: %.2f'\n",
    "      % r2_score(y_data_test, y_data_pred))\n"
   ]
  },
  {
   "cell_type": "code",
   "execution_count": 397,
   "metadata": {},
   "outputs": [
    {
     "data": {
      "image/png": "[encoded data removed]",
      "text/plain": [
       "<Figure size 432x288 with 1 Axes>"
      ]
     },
     "metadata": {},
     "output_type": "display_data"
    }
   ],
   "source": [
    "# Plot outputs\n",
    "plt.scatter(y_data_test, y_data_pred,  color='black')\n",
    "\n",
    "#plt.scatter(x_data_test['close last day'], y_data_test,  color='orange')\n",
    "#plt.scatter(x_data_test['volume'], y_data_test,  color='red')\n",
    "#plt.plot(y_data_test, y_data_pred, color='blue', linewidth=3)\n",
    "\n",
    "plt.xticks(())\n",
    "plt.yticks(())\n",
    "\n",
    "plt.show()"
   ]
  },
  {
   "cell_type": "markdown",
   "metadata": {},
   "source": [
    "# Model Results"
   ]
  },
  {
   "cell_type": "raw",
   "metadata": {},
   "source": [
    "the preliminary results, shows a high correlation between weighted tweets \"which take into consideration likes and retweets\", and the bitcoin results. "
   ]
  },
  {
   "cell_type": "raw",
   "metadata": {},
   "source": [
    "more investigations are required on type of tweets, include other snetiments from other social platforms like (Raddit, Facebook, relevant blogs), which could confirm the impact of herd sentiment on bitcoin future results"
   ]
  },
  {
   "cell_type": "code",
   "execution_count": null,
   "metadata": {},
   "outputs": [],
   "source": []
  }
 ],
 "metadata": {
  "colab": {
   "collapsed_sections": [],
   "name": "STOCK PREDICTION USING TWITTER SENTIMENT ANALYSIS PROJECT (FINAL).ipynb",
   "provenance": []
  },
  "kernelspec": {
   "display_name": "Python 3",
   "language": "python",
   "name": "python3"
  },
  "language_info": {
   "codemirror_mode": {
    "name": "ipython",
    "version": 3
   },
   "file_extension": ".py",
   "mimetype": "text/x-python",
   "name": "python",
   "nbconvert_exporter": "python",
   "pygments_lexer": "ipython3",
   "version": "3.7.6"
  }
 },
 "nbformat": 4,
 "nbformat_minor": 1
}
